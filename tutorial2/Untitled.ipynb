{
 "cells": [
  {
   "cell_type": "code",
   "execution_count": 11,
   "metadata": {},
   "outputs": [
    {
     "name": "stdout",
     "output_type": "stream",
     "text": [
      "KNeighbors accuracy score :  0.9666666666666667\n",
      "    SepalLengthCm  SepalWidthCm  PetalLengthCm  PetalWidthCm\n",
      "82            5.8           2.7            3.9           1.2 82    Iris-versicolor\n",
      "Name: Species, dtype: object\n"
     ]
    },
    {
     "data": {
      "text/plain": [
       "array(['Iris-versicolor'], dtype=object)"
      ]
     },
     "execution_count": 11,
     "metadata": {},
     "output_type": "execute_result"
    }
   ],
   "source": [
    "import pandas as pd\n",
    "\n",
    "import seaborn as sns\n",
    "import matplotlib.pyplot as plt\n",
    "from sklearn.model_selection import train_test_split\n",
    "from sklearn.neighbors import KNeighborsClassifier\n",
    "from sklearn import metrics\n",
    "import numpy as np\n",
    "\n",
    "iris_data = pd.read_csv('datasets/Iris.csv')\n",
    "\n",
    "def prepare_data_for_test(iris_data):\n",
    "    target = iris_data['Species']\n",
    "    cols = [col for col in iris_data.columns if col not in ['Species','Id']]\n",
    "    data = iris_data[cols] \n",
    "    return data,target\n",
    "\n",
    "def show_plot(iris_data):\n",
    "    sns.pairplot(data=iris_data,hue='Species')\n",
    "    plt.show()\n",
    "    g = sns.violinplot(y='Species', x='SepalLengthCm', data=iris_data, inner='quartile')\n",
    "    plt.show()\n",
    "    g = sns.violinplot(y='Species', x='SepalWidthCm', data=iris_data, inner='quartile')\n",
    "    plt.show()\n",
    "    g = sns.violinplot(y='Species', x='PetalLengthCm', data=iris_data, inner='quartile')\n",
    "    plt.show()\n",
    "    g = sns.violinplot(y='Species', x='PetalWidthCm', data=iris_data, inner='quartile')\n",
    "    plt.show()\n",
    "\n",
    "def create_train_test(iris_data):\n",
    "    data,target = prepare_data_for_test(iris_data)\n",
    "    x_train,x_test,y_train,y_test = train_test_split(data,target,test_size=0.2, random_state=5)\n",
    "    return x_train,x_test,y_train,y_test\n",
    "\n",
    "X_train,X_test,y_train,y_test = create_train_test(iris_data)\n",
    "\n",
    "knn = KNeighborsClassifier(n_neighbors=15)\n",
    "knn.fit(X_train, y_train)\n",
    "y_pred = knn.predict(X_test)\n",
    "\n",
    "print (\"KNeighbors accuracy score : \",metrics.accuracy_score(y_test,y_pred))\n",
    "print(X_test[:1],y_test[:1])\n",
    "knn.predict([[5.8, 2.7,3.9, 1.2]])"
   ]
  },
  {
   "cell_type": "code",
   "execution_count": null,
   "metadata": {},
   "outputs": [],
   "source": []
  }
 ],
 "metadata": {
  "kernelspec": {
   "display_name": "Python 3",
   "language": "python",
   "name": "python3"
  },
  "language_info": {
   "codemirror_mode": {
    "name": "ipython",
    "version": 3
   },
   "file_extension": ".py",
   "mimetype": "text/x-python",
   "name": "python",
   "nbconvert_exporter": "python",
   "pygments_lexer": "ipython3",
   "version": "3.7.2"
  }
 },
 "nbformat": 4,
 "nbformat_minor": 2
}
