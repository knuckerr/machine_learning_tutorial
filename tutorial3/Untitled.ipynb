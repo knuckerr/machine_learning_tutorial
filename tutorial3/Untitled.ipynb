{
 "cells": [
  {
   "cell_type": "code",
   "execution_count": 1,
   "metadata": {},
   "outputs": [
    {
     "name": "stdout",
     "output_type": "stream",
     "text": [
      "0.9060880800824367\n"
     ]
    }
   ],
   "source": [
    "import pandas as pd\n",
    "import seaborn as sns\n",
    "import matplotlib.pyplot as plt\n",
    "\n",
    "from sklearn.model_selection import train_test_split\n",
    "from sklearn.ensemble import RandomForestRegressor\n",
    "from sklearn.metrics import r2_score\n",
    "from sklearn import preprocessing\n",
    "from sklearn import metrics\n",
    "\n",
    "\n",
    "import numpy as np\n",
    "import json\n",
    "\n",
    "\n",
    "\n",
    "airbnb = pd.read_csv('datasets/airbnb.csv')\n",
    "\n",
    "def clean_data(airbnb):\n",
    "    colms = [col for col in airbnb.columns if col not in [\n",
    "    'id','host_id','host_name','neighbourhood_group','last_review','name',\n",
    "        'calculated_host_listings_count','reviews_per_month','availability_365','minimum_nights','number_of_reviews']]\n",
    "    \n",
    "    airbnb.loc[:,['price', 'latitude','longitude']] = airbnb[['price', 'latitude','longitude']].astype(float)\n",
    "    data = airbnb[colms]\n",
    "    \n",
    "    return data\n",
    "\n",
    "def prepare_for_test(airbnb):\n",
    "    data = clean_data(airbnb)\n",
    "    target = data['price']\n",
    "    colms = [col for col in data.columns if col not in ['price']]\n",
    "    data = data[colms]\n",
    "\n",
    "    # create the Labelencoder object\n",
    "    le = preprocessing.LabelEncoder()\n",
    "    data['neighbourhood'] = le.fit_transform(data['neighbourhood'])\n",
    "    neighbourhood_mapping = dict(zip(le.classes_, le.transform(le.classes_)))\n",
    "    \n",
    "    data['room_type'] = le.fit_transform(data['room_type'])\n",
    "    room_type_mapping = dict(zip(le.classes_, le.transform(le.classes_)))\n",
    "    \n",
    "    return data,target,neighbourhood_mapping,room_type_mapping\n",
    "\n",
    "def create_train_data(data,target):\n",
    "    x_train,x_test,y_train,y_test = train_test_split(data,target,test_size=0.2, random_state=60)\n",
    "    return x_train,x_test,y_train,y_test\n",
    "\n",
    "def print_score(alg, score, params):\n",
    "    print('%s score is %f with params %s' % (alg, score, json.dumps(params)))\n",
    "    \n",
    "\n",
    "#prepare data for test and return the mappings \n",
    "data,target,neighbourhood_mapping,room_type_mapping = prepare_for_test(airbnb)\n",
    "\n",
    "#create the training data \n",
    "X_train,X_test,y_train,y_test = create_train_data(data,target)\n",
    "\n",
    "regr = RandomForestRegressor(random_state=60, n_estimators=300)\n",
    "\n",
    "# Fit the mode\n",
    "regr.fit(data,target)\n",
    "\n",
    "# Predict the prices\n",
    "y_pre = regr.predict(X_test)\n",
    "\n",
    "# Compare the result\n",
    "print(r2_score(y_test, y_pre))"
   ]
  },
  {
   "cell_type": "code",
   "execution_count": null,
   "metadata": {},
   "outputs": [],
   "source": []
  }
 ],
 "metadata": {
  "kernelspec": {
   "display_name": "Python 3",
   "language": "python",
   "name": "python3"
  },
  "language_info": {
   "codemirror_mode": {
    "name": "ipython",
    "version": 3
   },
   "file_extension": ".py",
   "mimetype": "text/x-python",
   "name": "python",
   "nbconvert_exporter": "python",
   "pygments_lexer": "ipython3",
   "version": "3.7.2"
  }
 },
 "nbformat": 4,
 "nbformat_minor": 2
}
